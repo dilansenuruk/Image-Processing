{
 "cells": [
  {
   "attachments": {},
   "cell_type": "markdown",
   "metadata": {},
   "source": [
    "Name : W. K. D. D. Senuruk  \n",
    "Index Number : 190586H\n",
    "# EN2550 Homework 1 on Python and NumPy"
   ]
  },
  {
   "cell_type": "code",
   "execution_count": 1,
   "metadata": {},
   "outputs": [
    {
     "name": "stdout",
     "output_type": "stream",
     "text": [
      "1 : 1\n",
      "2 : 4\n",
      "3 : 9\n",
      "4 : 16\n",
      "5 : 25\n"
     ]
    }
   ],
   "source": [
    "for i in range(1,6):\n",
    "    print(i, ':', (i)**(2))"
   ]
  },
  {
   "cell_type": "code",
   "execution_count": 2,
   "metadata": {},
   "outputs": [
    {
     "name": "stdout",
     "output_type": "stream",
     "text": [
      "1 : 1\n",
      "4 : 16\n"
     ]
    }
   ],
   "source": [
    "import sympy\n",
    "for i in range(1,6):\n",
    "    if not sympy.isprime(i):\n",
    "        print(i, ':', (i)**(2))"
   ]
  },
  {
   "cell_type": "code",
   "execution_count": 3,
   "metadata": {},
   "outputs": [
    {
     "name": "stdout",
     "output_type": "stream",
     "text": [
      "[1, 4, 9, 16, 25]\n"
     ]
    }
   ],
   "source": [
    "ans = [i**(2) for i in range(1, 6)]\n",
    "print(ans)"
   ]
  },
  {
   "cell_type": "code",
   "execution_count": 4,
   "metadata": {},
   "outputs": [
    {
     "name": "stdout",
     "output_type": "stream",
     "text": [
      "[1, 16]\n"
     ]
    }
   ],
   "source": [
    "ans = [i**(2) for i in range(1,6) if not sympy.isprime(i)]\n",
    "print(ans)"
   ]
  },
  {
   "cell_type": "code",
   "execution_count": 5,
   "metadata": {},
   "outputs": [
    {
     "name": "stdout",
     "output_type": "stream",
     "text": [
      "[[ 9 12 15  9]\n",
      " [25 32 39 19]\n",
      " [41 52 63 29]]\n"
     ]
    }
   ],
   "source": [
    "import numpy as np\n",
    "A = np.array([[1, 2], [3, 4], [5, 6]])\n",
    "B = np.array([[7, 8, 9, 1], [1, 2, 3, 4]])\n",
    "C = np.matmul(A, B)\n",
    "print(C)"
   ]
  },
  {
   "cell_type": "code",
   "execution_count": 6,
   "metadata": {},
   "outputs": [
    {
     "name": "stdout",
     "output_type": "stream",
     "text": [
      "[[ 3  4]\n",
      " [15 16]\n",
      " [15  6]]\n"
     ]
    }
   ],
   "source": [
    "A = np.array([[1, 2], [3, 4], [5, 6]])\n",
    "B = np.array([[3, 2], [5, 4], [3, 1]])\n",
    "D = np.multiply(A, B)\n",
    "print(D)\n"
   ]
  },
  {
   "cell_type": "code",
   "execution_count": 7,
   "metadata": {},
   "outputs": [
    {
     "name": "stdout",
     "output_type": "stream",
     "text": [
      "[[9. 9. 8. 3. 6. 3. 9.]\n",
      " [2. 2. 1. 8. 2. 5. 1.]\n",
      " [8. 9. 8. 5. 5. 7. 2.]\n",
      " [4. 4. 0. 1. 1. 2. 5.]\n",
      " [9. 9. 3. 6. 2. 0. 8.]] \n",
      "\n",
      "[[2. 2.]\n",
      " [8. 9.]\n",
      " [4. 4.]] \n",
      "\n",
      "Size of the Resulting Array : 3 x 2\n"
     ]
    }
   ],
   "source": [
    "E = np.random.rand(5, 7)\n",
    "F = 10 * E\n",
    "for i in range(5):\n",
    "    for j in range(7):\n",
    "        F[i][j] = round(F[i][j]) \n",
    "print(F,'\\n')\n",
    "G = F[1:4, :2]\n",
    "print(G, '\\n')\n",
    "print('Size of the Resulting Array : 3 x 2')"
   ]
  },
  {
   "cell_type": "code",
   "execution_count": 8,
   "metadata": {},
   "outputs": [
    {
     "name": "stdout",
     "output_type": "stream",
     "text": [
      "_____________________Broadcasting_____________________\n",
      "multiply a matrix by a constant\n",
      "[[10 20 30]\n",
      " [40 50 60]]\n",
      "Add a vector to each row\n",
      "[[  11  102 1003]\n",
      " [  14  105 1006]]\n",
      "Add a vector to each column\n",
      "[[ 11  12  13]\n",
      " [104 105 106]]\n"
     ]
    }
   ],
   "source": [
    "x = np.array([[1, 2, 3], [4, 5, 6]])\n",
    "y = np.array([10, 100])\n",
    "z = np.array([10, 100, 1000])\n",
    "k = 10\n",
    "print('_____________________Broadcasting_____________________')\n",
    "print('multiply a matrix by a constant')\n",
    "print(x * k)\n",
    "print('Add a vector to each row')\n",
    "print(x + z)\n",
    "print('Add a vector to each column')\n",
    "print(x + np.reshape(y, (2, 1)))"
   ]
  },
  {
   "cell_type": "code",
   "execution_count": 9,
   "metadata": {},
   "outputs": [
    {
     "data": {
      "image/png": "[encoded data removed]",
      "text/plain": [
       "<Figure size 432x288 with 1 Axes>"
      ]
     },
     "metadata": {
      "needs_background": "light"
     },
     "output_type": "display_data"
    },
    {
     "name": "stdout",
     "output_type": "stream",
     "text": [
      "[[1. 0.]\n",
      " [1. 1.]\n",
      " [1. 2.]\n",
      " [1. 3.]\n",
      " [1. 4.]\n",
      " [1. 5.]\n",
      " [1. 6.]\n",
      " [1. 7.]\n",
      " [1. 8.]\n",
      " [1. 9.]]\n"
     ]
    }
   ],
   "source": [
    "import matplotlib.pyplot as plt\n",
    "m, c = 2, -4\n",
    "N = 10\n",
    "x = np.linspace(0, N - 1, N).reshape(N, 1)\n",
    "sigma = 10\n",
    "y = m*x + c + np.random.normal(0, sigma, (N, 1))\n",
    "plt.plot(x, y)\n",
    "plt.show()\n",
    "X = np.append(np.ones((N, 1)), x, axis = 1)\n",
    "print(X)"
   ]
  },
  {
   "cell_type": "code",
   "execution_count": 10,
   "metadata": {},
   "outputs": [
    {
     "name": "stdout",
     "output_type": "stream",
     "text": [
      "[[-2.79013718]\n",
      " [ 0.97939958]]\n"
     ]
    }
   ],
   "source": [
    "ans = np.linalg.inv(X.T @ X) @ X.T @ y\n",
    "print(ans)"
   ]
  },
  {
   "cell_type": "code",
   "execution_count": 11,
   "metadata": {},
   "outputs": [],
   "source": [
    "def sqrt_hyper_est(s):\n",
    "    if s > 100:\n",
    "        a = \"{:e}\".format(s)\n",
    "        idx = a.index('+')\n",
    "        n = int(float(a[idx + 1:]))\n",
    "        if n % 2 == 0:\n",
    "            a = float(a[:idx - 1])\n",
    "        else:\n",
    "            n = n - 1\n",
    "            a = float(a[:idx - 1]) * 10\n",
    "        sqrtS = (((-190)/(a + 20)) + 10) * 10**(n//2)\n",
    "    else:\n",
    "        sqrtS = (((-190)/(s + 20)) + 10) * 10**(0)\n",
    "\n",
    "    return sqrtS"
   ]
  },
  {
   "cell_type": "code",
   "execution_count": 12,
   "metadata": {},
   "outputs": [],
   "source": [
    "def sqrt_new_rap(s):\n",
    "    x = sqrt_hyper_est(s)\n",
    "    tolerance = 1e-5\n",
    "    epsilon = 1e-14\n",
    "    maxIterations = 20\n",
    "    solutionFound = False\n",
    "\n",
    "    for i in range(20):\n",
    "        y = x**(2) - s\n",
    "        yp = 2*x\n",
    "        if abs(yp) < epsilon:\n",
    "            break\n",
    "        xx = x - y/yp\n",
    "        if abs(xx - x) <= tolerance:\n",
    "            solutionFound = True\n",
    "            break\n",
    "        x = xx\n",
    "\n",
    "    if solutionFound == True:\n",
    "        print('Square root of', s, 'is', xx)\n",
    "    else:\n",
    "        print('Not converging')\n"
   ]
  },
  {
   "cell_type": "code",
   "execution_count": 13,
   "metadata": {},
   "outputs": [
    {
     "name": "stdout",
     "output_type": "stream",
     "text": [
      "_____________________Square roots for a precision of 0.00001_____________________\n",
      "Square root of 64 is 8.000000000000094\n",
      "Square root of 75 is 8.660254037844386\n",
      "Square root of 100 is 10.0\n",
      "Square root of 1600 is 40.0\n"
     ]
    }
   ],
   "source": [
    "print('_____________________Square roots for a precision of 0.00001_____________________')\n",
    "sqrt_new_rap(64)\n",
    "sqrt_new_rap(75)\n",
    "sqrt_new_rap(100)\n",
    "sqrt_new_rap(1600)"
   ]
  },
  {
   "cell_type": "code",
   "execution_count": 15,
   "metadata": {},
   "outputs": [],
   "source": [
    "import cv2 as cv\n",
    "img = cv.imread(r'./Images/gal_gaussian.png')\n",
    "gBlur = cv.GaussianBlur(img, (5, 5), 0)\n",
    "cv.namedWindow('Image', cv.WINDOW_AUTOSIZE)\n",
    "cv.imshow('Image', img)\n",
    "cv.waitKey(5000)\n",
    "cv.imshow('Image', gBlur)\n",
    "cv.waitKey(5000)\n",
    "cv.destroyAllWindows()"
   ]
  },
  {
   "cell_type": "code",
   "execution_count": 16,
   "metadata": {},
   "outputs": [],
   "source": [
    "img = cv.imread(r'./Images/gal_sandp.png')\n",
    "mBlur = cv.medianBlur(img, 5)\n",
    "cv.namedWindow('Image', cv.WINDOW_AUTOSIZE)\n",
    "cv.imshow('Image', img)\n",
    "cv.waitKey(5000)\n",
    "cv.imshow('Image', mBlur)\n",
    "cv.waitKey(5000)\n",
    "cv.destroyAllWindows()"
   ]
  },
  {
   "cell_type": "code",
   "execution_count": 17,
   "metadata": {},
   "outputs": [
    {
     "data": {
      "image/png": "[encoded data removed]",
      "text/plain": [
       "<Figure size 432x288 with 1 Axes>"
      ]
     },
     "metadata": {
      "needs_background": "light"
     },
     "output_type": "display_data"
    }
   ],
   "source": [
    "img = np.zeros((40, 60), dtype = np.uint8)\n",
    "img[0:21, 30:61] = 125\n",
    "cv.namedWindow('Image', cv.WINDOW_AUTOSIZE)\n",
    "cv.imshow('Image', img)\n",
    "cv.waitKey(5000)\n",
    "cv.destroyAllWindows()\n",
    "fig, ax = plt.subplots()\n",
    "ax.imshow(img, cmap = 'gray', vmin = 0, vmax = 255)\n",
    "plt.show()"
   ]
  },
  {
   "cell_type": "code",
   "execution_count": 18,
   "metadata": {},
   "outputs": [
    {
     "data": {
      "image/png": "[encoded data removed]",
      "text/plain": [
       "<Figure size 432x288 with 1 Axes>"
      ]
     },
     "metadata": {
      "needs_background": "light"
     },
     "output_type": "display_data"
    }
   ],
   "source": [
    "img = np.zeros((40, 60, 3), dtype = np.uint8)\n",
    "img = cv.cvtColor(img, cv.COLOR_BGR2RGB)\n",
    "img[20:41,0:31] = (132, 24, 218)\n",
    "cv.namedWindow('Image', cv.WINDOW_AUTOSIZE)\n",
    "cv.imshow('Image', img)\n",
    "cv.waitKey(5000)\n",
    "cv.destroyAllWindows()\n",
    "img[20:41,0:31] = (218, 24, 132)\n",
    "fig, ax = plt.subplots()\n",
    "ax.imshow(img, cmap = 'brg')\n",
    "plt.show()"
   ]
  },
  {
   "cell_type": "code",
   "execution_count": 20,
   "metadata": {},
   "outputs": [],
   "source": [
    "img = cv.imread(r'./Images/tom_dark.jpg')\n",
    "cv.namedWindow('Image', cv.WINDOW_AUTOSIZE)\n",
    "cv.imshow('Image', img)\n",
    "cv.waitKey(5000)\n",
    "hsv = cv.cvtColor(img, cv.COLOR_BGR2HSV)\n",
    "for x in range(0, len(hsv)):\n",
    "    for y in range(0, len(hsv[0])):\n",
    "        hsv[x, y][2] += 120\n",
    "img = cv.cvtColor(hsv, cv.COLOR_HSV2BGR)\n",
    "cv.imshow('Image', img)\n",
    "cv.waitKey(5000)\n",
    "cv.destroyAllWindows()"
   ]
  }
 ],
 "metadata": {
  "kernelspec": {
   "display_name": "base",
   "language": "python",
   "name": "python3"
  },
  "language_info": {
   "codemirror_mode": {
    "name": "ipython",
    "version": 3
   },
   "file_extension": ".py",
   "mimetype": "text/x-python",
   "name": "python",
   "nbconvert_exporter": "python",
   "pygments_lexer": "ipython3",
   "version": "3.8.5"
  },
  "orig_nbformat": 4
 },
 "nbformat": 4,
 "nbformat_minor": 2
}
